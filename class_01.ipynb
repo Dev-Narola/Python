{
 "cells": [
  {
   "cell_type": "code",
   "execution_count": 4,
   "metadata": {},
   "outputs": [
    {
     "name": "stdout",
     "output_type": "stream",
     "text": [
      "this is from collection :  2.708333333333333\n",
      "this is from scratch :  2.708333333333333\n"
     ]
    }
   ],
   "source": [
    "import random\n",
    "import math \n",
    "n = int(input(\"Enter the number : \"))\n",
    "result = 0\n",
    "for i in range(1, n+1):\n",
    "    result = result + (i / math.factorial(i))\n",
    "\n",
    "ans= 0\n",
    "fact = 1\n",
    "for i in range(1, n+1):\n",
    "    fact = fact *i\n",
    "    ans = ans + (i / fact)\n",
    "\n",
    "print(\"this is from collection : \",result)\n",
    "print(\"this is from scratch : \",ans)"
   ]
  },
  {
   "cell_type": "code",
   "execution_count": 12,
   "metadata": {},
   "outputs": [
    {
     "name": "stdout",
     "output_type": "stream",
     "text": [
      "\n",
      "*\n",
      "**\n",
      "***\n",
      "****\n"
     ]
    }
   ],
   "source": [
    "# pattern 1 basic triangle\n",
    "n = int(input(\"Enter the numeber : \"))\n",
    "\n",
    "for i in range (0, n):\n",
    "    for j in range (0, i):\n",
    "        print(\"*\",end=\"\")\n",
    "    print()"
   ]
  },
  {
   "cell_type": "code",
   "execution_count": 19,
   "metadata": {},
   "outputs": [
    {
     "name": "stdout",
     "output_type": "stream",
     "text": [
      "1\n",
      "121\n",
      "12321\n",
      "1234321\n",
      "123454321\n"
     ]
    }
   ],
   "source": [
    "n = int(input(\"Enter the numeber : \"))\n",
    "\n",
    "for i in range (1, n+1):\n",
    "    for j in range (1, i+1):\n",
    "        print(j,end=\"\")\n",
    "    for k in range (j-1,0,-1):\n",
    "        print(k,end=\"\")\n",
    "    print()"
   ]
  },
  {
   "cell_type": "code",
   "execution_count": 3,
   "metadata": {},
   "outputs": [
    {
     "name": "stdout",
     "output_type": "stream",
     "text": [
      "5\n",
      "7\n"
     ]
    }
   ],
   "source": [
    "lower = int(input(\"Enter the lower : \"))\n",
    "higher = int(input(\"Enter the higher : \"))\n",
    "\n",
    "for i in range (lower, higher+1):\n",
    "    for j in range(2, i):\n",
    "        if i%j==0:\n",
    "            break\n",
    "    else:\n",
    "        print(i)"
   ]
  },
  {
   "cell_type": "code",
   "execution_count": 6,
   "metadata": {},
   "outputs": [
    {
     "data": {
      "text/plain": [
       "18"
      ]
     },
     "execution_count": 6,
     "metadata": {},
     "output_type": "execute_result"
    }
   ],
   "source": [
    "s = 'My name is Lucifer'\n",
    "count = 0\n",
    "for i in s:\n",
    "    count += 1\n",
    "count"
   ]
  },
  {
   "cell_type": "code",
   "execution_count": 12,
   "metadata": {},
   "outputs": [
    {
     "name": "stdout",
     "output_type": "stream",
     "text": [
      "ds.narola2004\n"
     ]
    }
   ],
   "source": [
    "s = input(\"Enter the email : \")\n",
    "n = s.index('@')\n",
    "print(s[0:n])"
   ]
  },
  {
   "cell_type": "code",
   "execution_count": 14,
   "metadata": {},
   "outputs": [
    {
     "data": {
      "text/plain": [
       "3"
      ]
     },
     "execution_count": 14,
     "metadata": {},
     "output_type": "execute_result"
    }
   ],
   "source": [
    "s = input(\"Enter the String : \")\n",
    "n = input(\"Enter thing u want to search : \")\n",
    "counter = 0\n",
    "for i in s:\n",
    "    if i == n:\n",
    "        counter += 1\n",
    "print(S)\n",
    "counter\n"
   ]
  },
  {
   "cell_type": "code",
   "execution_count": 16,
   "metadata": {},
   "outputs": [
    {
     "data": {
      "text/plain": [
       "'Den Nrol'"
      ]
     },
     "execution_count": 16,
     "metadata": {},
     "output_type": "execute_result"
    }
   ],
   "source": [
    "s = input(\"Enter the String : \")\n",
    "n = input(\"Enter thing u want to remove : \")\n",
    "new = ''\n",
    "for i in s:\n",
    "    if i!= n:\n",
    "        new+=i\n",
    "    else: continue\n",
    "\n",
    "new"
   ]
  },
  {
   "cell_type": "code",
   "execution_count": 18,
   "metadata": {},
   "outputs": [
    {
     "name": "stdout",
     "output_type": "stream",
     "text": [
      "String is not Palindrome\n"
     ]
    }
   ],
   "source": [
    "s = \"OYOd|\"\n",
    "n = s[::-1]\n",
    "if s == n:\n",
    "    print(\"String is Palindrome\")\n",
    "else:\n",
    "    print(\"String is not Palindrome\")"
   ]
  },
  {
   "cell_type": "code",
   "execution_count": 19,
   "metadata": {},
   "outputs": [
    {
     "data": {
      "text/plain": [
       "['My', 'name', 'is', 'Dev']"
      ]
     },
     "execution_count": 19,
     "metadata": {},
     "output_type": "execute_result"
    }
   ],
   "source": [
    "s = input(\"Enter the string : \")\n",
    "L = []\n",
    "temp = ''\n",
    "for i in s:\n",
    "    if i != ' ':\n",
    "        temp+=i\n",
    "    else: \n",
    "        L.append(temp)\n",
    "        temp = ''\n",
    "L.append(temp)\n",
    "L"
   ]
  },
  {
   "cell_type": "code",
   "execution_count": 22,
   "metadata": {},
   "outputs": [
    {
     "data": {
      "text/plain": [
       "' My Name Ios Dev'"
      ]
     },
     "execution_count": 22,
     "metadata": {},
     "output_type": "execute_result"
    }
   ],
   "source": [
    "s = input(\"Enter the String : \")\n",
    "ans = ''\n",
    "for i in s.split():\n",
    "    aa = i[0].upper() + i[1:].lower()\n",
    "    ans = ans + \" \" + aa\n",
    "ans"
   ]
  },
  {
   "cell_type": "code",
   "execution_count": 24,
   "metadata": {},
   "outputs": [
    {
     "name": "stdout",
     "output_type": "stream",
     "text": [
      "2365\n",
      "<class 'str'>\n"
     ]
    }
   ],
   "source": [
    "number = int(input(\"Enter the number  : \"))\n",
    "digits =  \"0123456789\"\n",
    "result = ''\n",
    "while number != 0:\n",
    "    result = digits[number%10]+result\n",
    "    number = number//10\n",
    "\n",
    "print(result)\n",
    "print(type(result))"
   ]
  },
  {
   "cell_type": "code",
   "execution_count": null,
   "metadata": {},
   "outputs": [],
   "source": []
  }
 ],
 "metadata": {
  "kernelspec": {
   "display_name": "Python 3",
   "language": "python",
   "name": "python3"
  },
  "language_info": {
   "codemirror_mode": {
    "name": "ipython",
    "version": 3
   },
   "file_extension": ".py",
   "mimetype": "text/x-python",
   "name": "python",
   "nbconvert_exporter": "python",
   "pygments_lexer": "ipython3",
   "version": "3.11.6"
  }
 },
 "nbformat": 4,
 "nbformat_minor": 2
}
