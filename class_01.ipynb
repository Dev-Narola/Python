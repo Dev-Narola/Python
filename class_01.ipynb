{
 "cells": [
  {
   "cell_type": "code",
   "execution_count": 4,
   "metadata": {},
   "outputs": [
    {
     "name": "stdout",
     "output_type": "stream",
     "text": [
      "this is from collection :  2.708333333333333\n",
      "this is from scratch :  2.708333333333333\n"
     ]
    }
   ],
   "source": [
    "import random\n",
    "import math \n",
    "n = int(input(\"Enter the number : \"))\n",
    "result = 0\n",
    "for i in range(1, n+1):\n",
    "    result = result + (i / math.factorial(i))\n",
    "\n",
    "ans= 0\n",
    "fact = 1\n",
    "for i in range(1, n+1):\n",
    "    fact = fact *i\n",
    "    ans = ans + (i / fact)\n",
    "\n",
    "print(\"this is from collection : \",result)\n",
    "print(\"this is from scratch : \",ans)"
   ]
  },
  {
   "cell_type": "code",
   "execution_count": 12,
   "metadata": {},
   "outputs": [
    {
     "name": "stdout",
     "output_type": "stream",
     "text": [
      "\n",
      "*\n",
      "**\n",
      "***\n",
      "****\n"
     ]
    }
   ],
   "source": [
    "# pattern 1 basic triangle\n",
    "n = int(input(\"Enter the numeber : \"))\n",
    "\n",
    "for i in range (0, n):\n",
    "    for j in range (0, i):\n",
    "        print(\"*\",end=\"\")\n",
    "    print()"
   ]
  },
  {
   "cell_type": "code",
   "execution_count": 19,
   "metadata": {},
   "outputs": [
    {
     "name": "stdout",
     "output_type": "stream",
     "text": [
      "1\n",
      "121\n",
      "12321\n",
      "1234321\n",
      "123454321\n"
     ]
    }
   ],
   "source": [
    "n = int(input(\"Enter the numeber : \"))\n",
    "\n",
    "for i in range (1, n+1):\n",
    "    for j in range (1, i+1):\n",
    "        print(j,end=\"\")\n",
    "    for k in range (j-1,0,-1):\n",
    "        print(k,end=\"\")\n",
    "    print()"
   ]
  },
  {
   "cell_type": "code",
   "execution_count": 1,
   "metadata": {},
   "outputs": [],
   "source": [
    "#jai swaminarayan"
   ]
  },
  {
   "cell_type": "code",
   "execution_count": null,
   "metadata": {},
   "outputs": [],
   "source": []
  }
 ],
 "metadata": {
  "kernelspec": {
   "display_name": "Python 3",
   "language": "python",
   "name": "python3"
  },
  "language_info": {
   "codemirror_mode": {
    "name": "ipython",
    "version": 3
   },
   "file_extension": ".py",
   "mimetype": "text/x-python",
   "name": "python",
   "nbconvert_exporter": "python",
   "pygments_lexer": "ipython3",
   "version": "3.11.6"
  }
 },
 "nbformat": 4,
 "nbformat_minor": 2
}
